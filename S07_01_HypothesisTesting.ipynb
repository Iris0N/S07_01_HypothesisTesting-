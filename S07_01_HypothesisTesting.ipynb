{
 "cells": [
  {
   "cell_type": "markdown",
   "id": "ac5d8564",
   "metadata": {},
   "source": [
    "S07_01_HypothesisTesting \n",
    "\n",
    "Aprèn a realitzar test d'hipòtesis amb Python.\n",
    "Nivell 1\n",
    "- Exercici 1\n",
    "\n",
    "Agafa un conjunt de dades de tema esportiu que t'agradi i selecciona un atribut del conjunt de dades. Calcula el p-valor i digues si rebutja la hipòtesi nul·la agafant un alfa de 5%. "
   ]
  },
  {
   "cell_type": "code",
   "execution_count": 1,
   "id": "04236111",
   "metadata": {},
   "outputs": [],
   "source": [
    "import numpy as np\n",
    "import pandas as pd"
   ]
  },
  {
   "cell_type": "code",
   "execution_count": 2,
   "id": "4eab2f45",
   "metadata": {},
   "outputs": [
    {
     "data": {
      "text/html": [
       "<div>\n",
       "<style scoped>\n",
       "    .dataframe tbody tr th:only-of-type {\n",
       "        vertical-align: middle;\n",
       "    }\n",
       "\n",
       "    .dataframe tbody tr th {\n",
       "        vertical-align: top;\n",
       "    }\n",
       "\n",
       "    .dataframe thead th {\n",
       "        text-align: right;\n",
       "    }\n",
       "</style>\n",
       "<table border=\"1\" class=\"dataframe\">\n",
       "  <thead>\n",
       "    <tr style=\"text-align: right;\">\n",
       "      <th></th>\n",
       "      <th>Any</th>\n",
       "      <th>Trimestre</th>\n",
       "      <th>Edat</th>\n",
       "      <th>Tipologia</th>\n",
       "      <th>Àmbit</th>\n",
       "      <th>Fet principal sense trencament de condemna</th>\n",
       "      <th>Trencament de condemna</th>\n",
       "      <th>Denúncies</th>\n",
       "    </tr>\n",
       "  </thead>\n",
       "  <tbody>\n",
       "    <tr>\n",
       "      <th>0</th>\n",
       "      <td>2011</td>\n",
       "      <td>1r</td>\n",
       "      <td>&gt;65</td>\n",
       "      <td>Violència domèstica</td>\n",
       "      <td>Persones grans</td>\n",
       "      <td>196</td>\n",
       "      <td>15</td>\n",
       "      <td>138</td>\n",
       "    </tr>\n",
       "    <tr>\n",
       "      <th>1</th>\n",
       "      <td>2011</td>\n",
       "      <td>2n</td>\n",
       "      <td>&gt;65</td>\n",
       "      <td>Violència domèstica</td>\n",
       "      <td>Persones grans</td>\n",
       "      <td>286</td>\n",
       "      <td>28</td>\n",
       "      <td>188</td>\n",
       "    </tr>\n",
       "    <tr>\n",
       "      <th>2</th>\n",
       "      <td>2011</td>\n",
       "      <td>3r</td>\n",
       "      <td>&gt;65</td>\n",
       "      <td>Violència domèstica</td>\n",
       "      <td>Persones grans</td>\n",
       "      <td>308</td>\n",
       "      <td>27</td>\n",
       "      <td>209</td>\n",
       "    </tr>\n",
       "    <tr>\n",
       "      <th>3</th>\n",
       "      <td>2011</td>\n",
       "      <td>4t</td>\n",
       "      <td>&gt;65</td>\n",
       "      <td>Violència domèstica</td>\n",
       "      <td>Persones grans</td>\n",
       "      <td>245</td>\n",
       "      <td>27</td>\n",
       "      <td>181</td>\n",
       "    </tr>\n",
       "    <tr>\n",
       "      <th>4</th>\n",
       "      <td>2011</td>\n",
       "      <td>1r</td>\n",
       "      <td>&lt;18</td>\n",
       "      <td>Violència domèstica</td>\n",
       "      <td>Menors</td>\n",
       "      <td>162</td>\n",
       "      <td>6</td>\n",
       "      <td>130</td>\n",
       "    </tr>\n",
       "  </tbody>\n",
       "</table>\n",
       "</div>"
      ],
      "text/plain": [
       "    Any Trimestre Edat            Tipologia           Àmbit  \\\n",
       "0  2011        1r  >65  Violència domèstica  Persones grans   \n",
       "1  2011        2n  >65  Violència domèstica  Persones grans   \n",
       "2  2011        3r  >65  Violència domèstica  Persones grans   \n",
       "3  2011        4t  >65  Violència domèstica  Persones grans   \n",
       "4  2011        1r  <18  Violència domèstica          Menors   \n",
       "\n",
       "   Fet principal sense trencament de condemna  Trencament de condemna  \\\n",
       "0                                         196                      15   \n",
       "1                                         286                      28   \n",
       "2                                         308                      27   \n",
       "3                                         245                      27   \n",
       "4                                         162                       6   \n",
       "\n",
       "   Denúncies  \n",
       "0        138  \n",
       "1        188  \n",
       "2        209  \n",
       "3        181  \n",
       "4        130  "
      ]
     },
     "execution_count": 2,
     "metadata": {},
     "output_type": "execute_result"
    }
   ],
   "source": [
    "#Dades sobre fets, denúncies i trencaments de condemna per violència domèstica (Mossos d'Esquadra Open Data)\n",
    "#https://mossos.gencat.cat/ca/els_mossos_desquadra/indicadors_i_qualitat/dades_obertes/cataleg_dades_obertes/\n",
    "\n",
    "crime = pd.read_csv(\"/Users/fiorelliris/Documents/Coding/PYTHON/Sprint6/FetsMossos.csv\")\n",
    "crime.head(5)"
   ]
  },
  {
   "cell_type": "markdown",
   "id": "5eacdf21",
   "metadata": {},
   "source": [
    "    Null Hypothesis: the hypothesis that sample observations result purely from chance. The null hypothesis tends to state that there’s no change.\n",
    "    Alternative Hypothesis: the hypothesis that sample observations are influenced by some non-random cause.\n",
    "    P-value: the probability of obtaining the observed results of a test, assuming that the null hypothesis is correct; a smaller p-value means that there is stronger evidence in favor of the alternative hypothesis.\n",
    "    Alpha: the significance level; the probability of rejecting the null hypothesis when it is true — also known as Type 1 error.\n",
    "    The main rule in determining whether you reject the null is simple, PGADRN\n",
    "    If the P-value is Greater than the Alpha, Do not Reject the Null."
   ]
  },
  {
   "cell_type": "code",
   "execution_count": 3,
   "id": "01911d24",
   "metadata": {},
   "outputs": [
    {
     "data": {
      "text/html": [
       "<div>\n",
       "<style scoped>\n",
       "    .dataframe tbody tr th:only-of-type {\n",
       "        vertical-align: middle;\n",
       "    }\n",
       "\n",
       "    .dataframe tbody tr th {\n",
       "        vertical-align: top;\n",
       "    }\n",
       "\n",
       "    .dataframe thead th {\n",
       "        text-align: right;\n",
       "    }\n",
       "</style>\n",
       "<table border=\"1\" class=\"dataframe\">\n",
       "  <thead>\n",
       "    <tr style=\"text-align: right;\">\n",
       "      <th></th>\n",
       "      <th></th>\n",
       "      <th>Fet principal sense trencament de condemna</th>\n",
       "      <th>Trencament de condemna</th>\n",
       "      <th>Denúncies</th>\n",
       "    </tr>\n",
       "    <tr>\n",
       "      <th>Any</th>\n",
       "      <th>Àmbit</th>\n",
       "      <th></th>\n",
       "      <th></th>\n",
       "      <th></th>\n",
       "    </tr>\n",
       "  </thead>\n",
       "  <tbody>\n",
       "    <tr>\n",
       "      <th>2011</th>\n",
       "      <th>Menors</th>\n",
       "      <td>864</td>\n",
       "      <td>20</td>\n",
       "      <td>584</td>\n",
       "    </tr>\n",
       "    <tr>\n",
       "      <th>2012</th>\n",
       "      <th>Menors</th>\n",
       "      <td>1256</td>\n",
       "      <td>46</td>\n",
       "      <td>839</td>\n",
       "    </tr>\n",
       "    <tr>\n",
       "      <th>2013</th>\n",
       "      <th>Menors</th>\n",
       "      <td>1351</td>\n",
       "      <td>25</td>\n",
       "      <td>916</td>\n",
       "    </tr>\n",
       "    <tr>\n",
       "      <th>2014</th>\n",
       "      <th>Menors</th>\n",
       "      <td>1534</td>\n",
       "      <td>53</td>\n",
       "      <td>1423</td>\n",
       "    </tr>\n",
       "    <tr>\n",
       "      <th>2015</th>\n",
       "      <th>Menors</th>\n",
       "      <td>1645</td>\n",
       "      <td>90</td>\n",
       "      <td>1640</td>\n",
       "    </tr>\n",
       "  </tbody>\n",
       "</table>\n",
       "</div>"
      ],
      "text/plain": [
       "             Fet principal sense trencament de condemna  \\\n",
       "Any  Àmbit                                                \n",
       "2011 Menors                                         864   \n",
       "2012 Menors                                        1256   \n",
       "2013 Menors                                        1351   \n",
       "2014 Menors                                        1534   \n",
       "2015 Menors                                        1645   \n",
       "\n",
       "             Trencament de condemna  Denúncies  \n",
       "Any  Àmbit                                      \n",
       "2011 Menors                      20        584  \n",
       "2012 Menors                      46        839  \n",
       "2013 Menors                      25        916  \n",
       "2014 Menors                      53       1423  \n",
       "2015 Menors                      90       1640  "
      ]
     },
     "execution_count": 3,
     "metadata": {},
     "output_type": "execute_result"
    }
   ],
   "source": [
    "crime_denu_ambit_menors= crime[crime[\"Àmbit\"] == \"Menors\"]\n",
    "crime_denu_ambit_menors= crime_denu_ambit_menors.groupby([\"Any\", \"Àmbit\"]).sum([\"Denúncies\"])\n",
    "crime_denu_ambit_menors.head(5)"
   ]
  },
  {
   "cell_type": "code",
   "execution_count": 4,
   "id": "81bc11c9",
   "metadata": {},
   "outputs": [
    {
     "data": {
      "text/plain": [
       "Fet principal sense trencament de condemna    1492.181818\n",
       "Trencament de condemna                          65.818182\n",
       "Denúncies                                     1353.090909\n",
       "dtype: float64"
      ]
     },
     "execution_count": 4,
     "metadata": {},
     "output_type": "execute_result"
    }
   ],
   "source": [
    "crime_denu_ambit_menors.mean()"
   ]
  },
  {
   "cell_type": "markdown",
   "id": "6f46848f",
   "metadata": {},
   "source": [
    "Test\n",
    "\n",
    "Null hypothesis    H₀:= 66\n",
    "Alternative hypothesis    H₁: > 66"
   ]
  },
  {
   "cell_type": "code",
   "execution_count": 9,
   "id": "dbd6214d",
   "metadata": {},
   "outputs": [
    {
     "data": {
      "text/html": [
       "<div>\n",
       "<style scoped>\n",
       "    .dataframe tbody tr th:only-of-type {\n",
       "        vertical-align: middle;\n",
       "    }\n",
       "\n",
       "    .dataframe tbody tr th {\n",
       "        vertical-align: top;\n",
       "    }\n",
       "\n",
       "    .dataframe thead th {\n",
       "        text-align: right;\n",
       "    }\n",
       "</style>\n",
       "<table border=\"1\" class=\"dataframe\">\n",
       "  <thead>\n",
       "    <tr style=\"text-align: right;\">\n",
       "      <th></th>\n",
       "      <th></th>\n",
       "      <th>Fet_principal</th>\n",
       "      <th>Trencament_condemna</th>\n",
       "      <th>Denuncies</th>\n",
       "    </tr>\n",
       "    <tr>\n",
       "      <th>Any</th>\n",
       "      <th>Àmbit</th>\n",
       "      <th></th>\n",
       "      <th></th>\n",
       "      <th></th>\n",
       "    </tr>\n",
       "  </thead>\n",
       "  <tbody>\n",
       "    <tr>\n",
       "      <th>2011</th>\n",
       "      <th>Menors</th>\n",
       "      <td>864</td>\n",
       "      <td>20</td>\n",
       "      <td>584</td>\n",
       "    </tr>\n",
       "    <tr>\n",
       "      <th>2012</th>\n",
       "      <th>Menors</th>\n",
       "      <td>1256</td>\n",
       "      <td>46</td>\n",
       "      <td>839</td>\n",
       "    </tr>\n",
       "    <tr>\n",
       "      <th>2013</th>\n",
       "      <th>Menors</th>\n",
       "      <td>1351</td>\n",
       "      <td>25</td>\n",
       "      <td>916</td>\n",
       "    </tr>\n",
       "    <tr>\n",
       "      <th>2014</th>\n",
       "      <th>Menors</th>\n",
       "      <td>1534</td>\n",
       "      <td>53</td>\n",
       "      <td>1423</td>\n",
       "    </tr>\n",
       "    <tr>\n",
       "      <th>2015</th>\n",
       "      <th>Menors</th>\n",
       "      <td>1645</td>\n",
       "      <td>90</td>\n",
       "      <td>1640</td>\n",
       "    </tr>\n",
       "  </tbody>\n",
       "</table>\n",
       "</div>"
      ],
      "text/plain": [
       "             Fet_principal  Trencament_condemna  Denuncies\n",
       "Any  Àmbit                                                \n",
       "2011 Menors            864                   20        584\n",
       "2012 Menors           1256                   46        839\n",
       "2013 Menors           1351                   25        916\n",
       "2014 Menors           1534                   53       1423\n",
       "2015 Menors           1645                   90       1640"
      ]
     },
     "execution_count": 9,
     "metadata": {},
     "output_type": "execute_result"
    }
   ],
   "source": [
    "#Renaming columns \n",
    "crime_tidy = crime_denu_ambit_menors.rename(columns = {\"Fet principal sense trencament de condemna\": \"Fet_principal\", \"Trencament de condemna\": \"Trencament_condemna\", \"Denúncies\": \"Denuncies\"}, inplace = False)\n",
    "crime_tidy.head(5)"
   ]
  },
  {
   "cell_type": "code",
   "execution_count": 18,
   "id": "9a999d70",
   "metadata": {},
   "outputs": [
    {
     "name": "stdout",
     "output_type": "stream",
     "text": [
      "Correlation:  0.8602 P-VALUE:  0.0007\n"
     ]
    }
   ],
   "source": [
    "#P-value\n",
    "from scipy import stats\n",
    "r,p = stats.pearsonr(crime_tidy.Denuncies,crime_tidy.Trencament_condemna)\n",
    "print(\"Correlation: \", round (r,4),\"P-VALUE: \", round(p,4))"
   ]
  },
  {
   "cell_type": "code",
   "execution_count": 26,
   "id": "df7fc21f",
   "metadata": {},
   "outputs": [
    {
     "name": "stdout",
     "output_type": "stream",
     "text": [
      "p-values 0.999393041892781\n",
      "we are accepting null hypothesis\n"
     ]
    }
   ],
   "source": [
    "#P-value\n",
    "#Denúncies Mean = 1353.090909\n",
    "\n",
    "tset, pval = stats.ttest_1samp(crime_tidy.Denuncies, 1353)\n",
    "print(\"p-values\",pval)\n",
    "\n",
    "if pval < 0.05:    # alpha value is 0.05 or 5%\n",
    "   print(\"we are rejecting null hypothesis\")\n",
    "else:\n",
    "  print(\"we are accepting null hypothesis\")\n"
   ]
  }
 ],
 "metadata": {
  "kernelspec": {
   "display_name": "Python 3 (ipykernel)",
   "language": "python",
   "name": "python3"
  },
  "language_info": {
   "codemirror_mode": {
    "name": "ipython",
    "version": 3
   },
   "file_extension": ".py",
   "mimetype": "text/x-python",
   "name": "python",
   "nbconvert_exporter": "python",
   "pygments_lexer": "ipython3",
   "version": "3.9.7"
  }
 },
 "nbformat": 4,
 "nbformat_minor": 5
}
